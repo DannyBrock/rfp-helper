{
 "cells": [
  {
   "cell_type": "code",
   "execution_count": null,
   "id": "4e4692e2-db8d-49d4-939b-c169ea805eaf",
   "metadata": {},
   "outputs": [],
   "source": [
    "!pip install cassandra-driver"
   ]
  },
  {
   "cell_type": "code",
   "execution_count": null,
   "id": "d6bd0fbb-d55c-46bc-86da-dc4c2cbfdf1a",
   "metadata": {},
   "outputs": [],
   "source": [
    "#!pip install fiddler-client==2.1.0"
   ]
  },
  {
   "cell_type": "code",
   "execution_count": null,
   "id": "1eafdb91-e921-409b-b46d-815827ed668f",
   "metadata": {},
   "outputs": [],
   "source": [
    "!pip install langchain"
   ]
  },
  {
   "cell_type": "code",
   "execution_count": null,
   "id": "2c53e01e-af3a-42f0-b73b-b14b96b9cf53",
   "metadata": {},
   "outputs": [],
   "source": [
    "!pip install typing-inspect==0.8.0 typing_extensions==4.5.0"
   ]
  },
  {
   "cell_type": "code",
   "execution_count": 11,
   "id": "8aa534bf-907d-49bd-9d65-1c9151d28e8e",
   "metadata": {},
   "outputs": [
    {
     "name": "stdout",
     "output_type": "stream",
     "text": [
      "Requirement already satisfied: pydantic in /Users/danielbrock/opt/anaconda3/lib/python3.8/site-packages (1.9.0)\n",
      "Collecting pydantic\n",
      "  Using cached pydantic-2.5.1-py3-none-any.whl.metadata (64 kB)\n",
      "Requirement already satisfied: annotated-types>=0.4.0 in /Users/danielbrock/opt/anaconda3/lib/python3.8/site-packages (from pydantic) (0.6.0)\n",
      "Collecting pydantic-core==2.14.3 (from pydantic)\n",
      "  Downloading pydantic_core-2.14.3-cp38-cp38-macosx_10_7_x86_64.whl.metadata (6.5 kB)\n",
      "Collecting typing-extensions>=4.6.1 (from pydantic)\n",
      "  Using cached typing_extensions-4.8.0-py3-none-any.whl.metadata (3.0 kB)\n",
      "Using cached pydantic-2.5.1-py3-none-any.whl (381 kB)\n",
      "Downloading pydantic_core-2.14.3-cp38-cp38-macosx_10_7_x86_64.whl (1.9 MB)\n",
      "\u001b[2K   \u001b[90m━━━━━━━━━━━━━━━━━━━━━━━━━━━━━━━━━━━━━━━━\u001b[0m \u001b[32m1.9/1.9 MB\u001b[0m \u001b[31m5.5 MB/s\u001b[0m eta \u001b[36m0:00:00\u001b[0m00:01\u001b[0m00:01\u001b[0m0m\n",
      "\u001b[?25hUsing cached typing_extensions-4.8.0-py3-none-any.whl (31 kB)\n",
      "\u001b[33mDEPRECATION: pyodbc 4.0.0-unsupported has a non-standard version number. pip 24.0 will enforce this behaviour change. A possible replacement is to upgrade to a newer version of pyodbc or contact the author to suggest that they release a version with a conforming version number. Discussion can be found at https://github.com/pypa/pip/issues/12063\u001b[0m\u001b[33m\n",
      "\u001b[0mInstalling collected packages: typing-extensions, pydantic-core, pydantic\n",
      "  Attempting uninstall: typing-extensions\n",
      "    Found existing installation: typing_extensions 4.5.0\n",
      "    Uninstalling typing_extensions-4.5.0:\n",
      "      Successfully uninstalled typing_extensions-4.5.0\n",
      "  Attempting uninstall: pydantic-core\n",
      "    Found existing installation: pydantic_core 2.10.1\n",
      "    Uninstalling pydantic_core-2.10.1:\n",
      "      Successfully uninstalled pydantic_core-2.10.1\n",
      "  Attempting uninstall: pydantic\n",
      "    Found existing installation: pydantic 1.9.0\n",
      "    Uninstalling pydantic-1.9.0:\n",
      "      Successfully uninstalled pydantic-1.9.0\n",
      "\u001b[31mERROR: pip's dependency resolver does not currently take into account all the packages that are installed. This behaviour is the source of the following dependency conflicts.\n",
      "chromadb 0.3.26 requires tqdm>=4.65.0, but you have tqdm 4.64.1 which is incompatible.\n",
      "datamodel-code-generator 0.12.3 requires pydantic[email]<2.0,>=1.5.1; python_version < \"3.10\", but you have pydantic 2.5.1 which is incompatible.\n",
      "fiddler-client 2.2.0.dev1 requires pydantic==1.9.0, but you have pydantic 2.5.1 which is incompatible.\n",
      "onnx 1.13.1 requires protobuf<4,>=3.20.2, but you have protobuf 4.24.4 which is incompatible.\n",
      "catapult 0.1.0 requires fiddler-client==1.8.0.dev2, but you have fiddler-client 2.2.0.dev1 which is incompatible.\n",
      "catapult 0.1.0 requires pandas==1.3.5, but you have pandas 1.5.3 which is incompatible.\n",
      "catapult 0.1.0 requires pyyaml==5.4.1, but you have pyyaml 6.0.1 which is incompatible.\u001b[0m\u001b[31m\n",
      "\u001b[0mSuccessfully installed pydantic-2.5.1 pydantic-core-2.14.3 typing-extensions-4.8.0\n",
      "Note: you may need to restart the kernel to use updated packages.\n"
     ]
    }
   ],
   "source": [
    "pip install pydantic -U"
   ]
  },
  {
   "cell_type": "code",
   "execution_count": 12,
   "id": "0b750d1d-5d07-41b0-87f8-ce4b4f4460dc",
   "metadata": {},
   "outputs": [
    {
     "name": "stdout",
     "output_type": "stream",
     "text": [
      "Collecting pydantic==1.10.11\n",
      "  Using cached pydantic-1.10.11-cp38-cp38-macosx_10_9_x86_64.whl.metadata (148 kB)\n",
      "Requirement already satisfied: typing-extensions>=4.2.0 in /Users/danielbrock/opt/anaconda3/lib/python3.8/site-packages (from pydantic==1.10.11) (4.8.0)\n",
      "Using cached pydantic-1.10.11-cp38-cp38-macosx_10_9_x86_64.whl (2.9 MB)\n",
      "\u001b[33mDEPRECATION: pyodbc 4.0.0-unsupported has a non-standard version number. pip 24.0 will enforce this behaviour change. A possible replacement is to upgrade to a newer version of pyodbc or contact the author to suggest that they release a version with a conforming version number. Discussion can be found at https://github.com/pypa/pip/issues/12063\u001b[0m\u001b[33m\n",
      "\u001b[0mInstalling collected packages: pydantic\n",
      "  Attempting uninstall: pydantic\n",
      "    Found existing installation: pydantic 2.5.1\n",
      "    Uninstalling pydantic-2.5.1:\n",
      "      Successfully uninstalled pydantic-2.5.1\n",
      "\u001b[31mERROR: pip's dependency resolver does not currently take into account all the packages that are installed. This behaviour is the source of the following dependency conflicts.\n",
      "chromadb 0.3.26 requires tqdm>=4.65.0, but you have tqdm 4.64.1 which is incompatible.\n",
      "fiddler-client 2.2.0.dev1 requires pydantic==1.9.0, but you have pydantic 1.10.11 which is incompatible.\n",
      "catapult 0.1.0 requires fiddler-client==1.8.0.dev2, but you have fiddler-client 2.2.0.dev1 which is incompatible.\n",
      "catapult 0.1.0 requires pandas==1.3.5, but you have pandas 1.5.3 which is incompatible.\n",
      "catapult 0.1.0 requires pyyaml==5.4.1, but you have pyyaml 6.0.1 which is incompatible.\u001b[0m\u001b[31m\n",
      "\u001b[0mSuccessfully installed pydantic-1.10.11\n",
      "Note: you may need to restart the kernel to use updated packages.\n"
     ]
    }
   ],
   "source": [
    "pip install pydantic==1.10.11"
   ]
  },
  {
   "cell_type": "code",
   "execution_count": null,
   "id": "42f15e46-fc23-4818-a8c0-3cfddc4a383a",
   "metadata": {},
   "outputs": [],
   "source": [
    "!pip install flask-sqlalchemy"
   ]
  },
  {
   "cell_type": "code",
   "execution_count": null,
   "id": "cc73d932-3afe-4477-b161-8aeafd89611c",
   "metadata": {},
   "outputs": [],
   "source": [
    "!pip install unstructured"
   ]
  },
  {
   "cell_type": "code",
   "execution_count": null,
   "id": "e378b1f5-7d4a-4002-b16e-1515b12bda1a",
   "metadata": {},
   "outputs": [],
   "source": [
    "! pip install -q --progress-bar off \\\n",
    "    \"git+https://github.com/hemidactylus/langchain@updated-full-preview--lab#egg=langchain&subdirectory=libs/langchain\" \\\n",
    "    \"cassio>=0.1.1\" \\\n",
    "    \"google-cloud-aiplatform>=1.25.0\" \\\n",
    "    \"jupyter>=1.0.0\" \\\n",
    "    \"openai==0.27.7\" \\\n",
    "    \"python-dotenv==1.0.0\" \\\n",
    "    \"tensorflow-cpu==2.12.0\" \\\n",
    "    \"tiktoken==0.4.0\" \\\n",
    "    \"transformers>=4.29.2\" \n",
    "exit()"
   ]
  },
  {
   "cell_type": "code",
   "execution_count": 3,
   "id": "3ea16066-f6d1-4fbd-82ca-d5777cd2f017",
   "metadata": {},
   "outputs": [
    {
     "name": "stdout",
     "output_type": "stream",
     "text": [
      "Collecting google-api-python-client\n",
      "  Downloading google_api_python_client-2.108.0-py2.py3-none-any.whl.metadata (6.6 kB)\n",
      "Collecting google-auth-httplib2\n",
      "  Downloading google_auth_httplib2-0.1.1-py2.py3-none-any.whl.metadata (2.1 kB)\n",
      "Requirement already satisfied: google-auth-oauthlib in /Users/danielbrock/opt/anaconda3/lib/python3.8/site-packages (1.0.0)\n",
      "Collecting google-auth-oauthlib\n",
      "  Downloading google_auth_oauthlib-1.1.0-py2.py3-none-any.whl.metadata (2.7 kB)\n",
      "Collecting httplib2<1.dev0,>=0.15.0 (from google-api-python-client)\n",
      "  Downloading httplib2-0.22.0-py3-none-any.whl (96 kB)\n",
      "\u001b[2K     \u001b[90m━━━━━━━━━━━━━━━━━━━━━━━━━━━━━━━━━━━━━━━\u001b[0m \u001b[32m96.9/96.9 kB\u001b[0m \u001b[31m792.2 kB/s\u001b[0m eta \u001b[36m0:00:00\u001b[0ma \u001b[36m0:00:01\u001b[0m\n",
      "\u001b[?25hRequirement already satisfied: google-auth<3.0.0.dev0,>=1.19.0 in /Users/danielbrock/opt/anaconda3/lib/python3.8/site-packages (from google-api-python-client) (2.20.0)\n",
      "Requirement already satisfied: google-api-core!=2.0.*,!=2.1.*,!=2.2.*,!=2.3.0,<3.0.0.dev0,>=1.31.5 in /Users/danielbrock/opt/anaconda3/lib/python3.8/site-packages (from google-api-python-client) (2.12.0)\n",
      "Collecting uritemplate<5,>=3.0.1 (from google-api-python-client)\n",
      "  Downloading uritemplate-4.1.1-py2.py3-none-any.whl (10 kB)\n",
      "Requirement already satisfied: requests-oauthlib>=0.7.0 in /Users/danielbrock/opt/anaconda3/lib/python3.8/site-packages (from google-auth-oauthlib) (1.3.1)\n",
      "Requirement already satisfied: googleapis-common-protos<2.0.dev0,>=1.56.2 in /Users/danielbrock/opt/anaconda3/lib/python3.8/site-packages (from google-api-core!=2.0.*,!=2.1.*,!=2.2.*,!=2.3.0,<3.0.0.dev0,>=1.31.5->google-api-python-client) (1.60.0)\n",
      "Requirement already satisfied: protobuf!=3.20.0,!=3.20.1,!=4.21.0,!=4.21.1,!=4.21.2,!=4.21.3,!=4.21.4,!=4.21.5,<5.0.0.dev0,>=3.19.5 in /Users/danielbrock/opt/anaconda3/lib/python3.8/site-packages (from google-api-core!=2.0.*,!=2.1.*,!=2.2.*,!=2.3.0,<3.0.0.dev0,>=1.31.5->google-api-python-client) (4.24.4)\n",
      "Requirement already satisfied: requests<3.0.0.dev0,>=2.18.0 in /Users/danielbrock/opt/anaconda3/lib/python3.8/site-packages (from google-api-core!=2.0.*,!=2.1.*,!=2.2.*,!=2.3.0,<3.0.0.dev0,>=1.31.5->google-api-python-client) (2.31.0)\n",
      "Requirement already satisfied: cachetools<6.0,>=2.0.0 in /Users/danielbrock/opt/anaconda3/lib/python3.8/site-packages (from google-auth<3.0.0.dev0,>=1.19.0->google-api-python-client) (5.3.0)\n",
      "Requirement already satisfied: pyasn1-modules>=0.2.1 in /Users/danielbrock/opt/anaconda3/lib/python3.8/site-packages (from google-auth<3.0.0.dev0,>=1.19.0->google-api-python-client) (0.3.0)\n",
      "Requirement already satisfied: rsa<5,>=3.1.4 in /Users/danielbrock/opt/anaconda3/lib/python3.8/site-packages (from google-auth<3.0.0.dev0,>=1.19.0->google-api-python-client) (4.9)\n",
      "Requirement already satisfied: six>=1.9.0 in /Users/danielbrock/opt/anaconda3/lib/python3.8/site-packages (from google-auth<3.0.0.dev0,>=1.19.0->google-api-python-client) (1.15.0)\n",
      "Requirement already satisfied: urllib3<2.0 in /Users/danielbrock/opt/anaconda3/lib/python3.8/site-packages (from google-auth<3.0.0.dev0,>=1.19.0->google-api-python-client) (1.26.4)\n",
      "Requirement already satisfied: pyparsing!=3.0.0,!=3.0.1,!=3.0.2,!=3.0.3,<4,>=2.4.2 in /Users/danielbrock/opt/anaconda3/lib/python3.8/site-packages (from httplib2<1.dev0,>=0.15.0->google-api-python-client) (2.4.7)\n",
      "Requirement already satisfied: oauthlib>=3.0.0 in /Users/danielbrock/opt/anaconda3/lib/python3.8/site-packages (from requests-oauthlib>=0.7.0->google-auth-oauthlib) (3.2.2)\n",
      "Requirement already satisfied: pyasn1<0.6.0,>=0.4.6 in /Users/danielbrock/opt/anaconda3/lib/python3.8/site-packages (from pyasn1-modules>=0.2.1->google-auth<3.0.0.dev0,>=1.19.0->google-api-python-client) (0.5.0)\n",
      "Requirement already satisfied: charset-normalizer<4,>=2 in /Users/danielbrock/opt/anaconda3/lib/python3.8/site-packages (from requests<3.0.0.dev0,>=2.18.0->google-api-core!=2.0.*,!=2.1.*,!=2.2.*,!=2.3.0,<3.0.0.dev0,>=1.31.5->google-api-python-client) (2.1.1)\n",
      "Requirement already satisfied: idna<4,>=2.5 in /Users/danielbrock/opt/anaconda3/lib/python3.8/site-packages (from requests<3.0.0.dev0,>=2.18.0->google-api-core!=2.0.*,!=2.1.*,!=2.2.*,!=2.3.0,<3.0.0.dev0,>=1.31.5->google-api-python-client) (2.10)\n",
      "Requirement already satisfied: certifi>=2017.4.17 in /Users/danielbrock/opt/anaconda3/lib/python3.8/site-packages (from requests<3.0.0.dev0,>=2.18.0->google-api-core!=2.0.*,!=2.1.*,!=2.2.*,!=2.3.0,<3.0.0.dev0,>=1.31.5->google-api-python-client) (2020.12.5)\n",
      "Downloading google_api_python_client-2.108.0-py2.py3-none-any.whl (12.8 MB)\n",
      "\u001b[2K   \u001b[90m━━━━━━━━━━━━━━━━━━━━━━━━━━━━━━━━━━━━━━━━\u001b[0m \u001b[32m12.8/12.8 MB\u001b[0m \u001b[31m14.5 MB/s\u001b[0m eta \u001b[36m0:00:00\u001b[0m00:01\u001b[0m00:01\u001b[0m\n",
      "\u001b[?25hDownloading google_auth_httplib2-0.1.1-py2.py3-none-any.whl (9.3 kB)\n",
      "Downloading google_auth_oauthlib-1.1.0-py2.py3-none-any.whl (19 kB)\n",
      "\u001b[33mDEPRECATION: pyodbc 4.0.0-unsupported has a non-standard version number. pip 24.0 will enforce this behaviour change. A possible replacement is to upgrade to a newer version of pyodbc or contact the author to suggest that they release a version with a conforming version number. Discussion can be found at https://github.com/pypa/pip/issues/12063\u001b[0m\u001b[33m\n",
      "\u001b[0mInstalling collected packages: uritemplate, httplib2, google-auth-oauthlib, google-auth-httplib2, google-api-python-client\n",
      "  Attempting uninstall: google-auth-oauthlib\n",
      "    Found existing installation: google-auth-oauthlib 1.0.0\n",
      "    Uninstalling google-auth-oauthlib-1.0.0:\n",
      "      Successfully uninstalled google-auth-oauthlib-1.0.0\n",
      "\u001b[31mERROR: pip's dependency resolver does not currently take into account all the packages that are installed. This behaviour is the source of the following dependency conflicts.\n",
      "tensorboard 2.12.3 requires google-auth-oauthlib<1.1,>=0.5, but you have google-auth-oauthlib 1.1.0 which is incompatible.\u001b[0m\u001b[31m\n",
      "\u001b[0mSuccessfully installed google-api-python-client-2.108.0 google-auth-httplib2-0.1.1 google-auth-oauthlib-1.1.0 httplib2-0.22.0 uritemplate-4.1.1\n"
     ]
    }
   ],
   "source": [
    "!pip install --upgrade google-api-python-client google-auth-httplib2 google-auth-oauthlib"
   ]
  },
  {
   "cell_type": "code",
   "execution_count": 25,
   "id": "3c4096ec-29eb-4cfa-8346-7b283cbd23b8",
   "metadata": {},
   "outputs": [],
   "source": [
    "import cassandra\n",
    "from cassandra.cluster import Cluster\n",
    "from cassandra.auth import PlainTextAuthProvider\n",
    "import json\n",
    "import os\n",
    "import pandas as pd\n",
    "import fiddler as fdl"
   ]
  },
  {
   "cell_type": "code",
   "execution_count": 26,
   "id": "26c65fe4-ee0c-4262-969a-d4e6f97ebc48",
   "metadata": {},
   "outputs": [
    {
     "data": {
      "text/plain": [
       "'2.2.0.dev1'"
      ]
     },
     "execution_count": 26,
     "metadata": {},
     "output_type": "execute_result"
    }
   ],
   "source": [
    "fdl.__version__"
   ]
  },
  {
   "cell_type": "code",
   "execution_count": 27,
   "id": "83c37535-3311-495a-921e-4d175f6eaf4d",
   "metadata": {},
   "outputs": [
    {
     "data": {
      "text/plain": [
       "'3.28.0'"
      ]
     },
     "execution_count": 27,
     "metadata": {},
     "output_type": "execute_result"
    }
   ],
   "source": [
    "cassandra.__version__"
   ]
  },
  {
   "cell_type": "code",
   "execution_count": 28,
   "id": "b64b3d41-2153-45c4-b37b-8567ca48c52e",
   "metadata": {},
   "outputs": [],
   "source": [
    "# This secure connect bundle is autogenerated when you donwload your SCB, \n",
    "# if yours is different update the file name below\n",
    "cloud_config= {\n",
    "  'secure_connect_bundle': 'datastax_auth/secure-connect-fiddlerai.zip'\n",
    "}\n",
    "\n",
    "ASTRA_DB_APPLICATION_TOKEN = os.environ.get('ASTRA_DB_APPLICATION_TOKEN')\n",
    "#print(\"TOKEN: \" + ASTRA_DB_APPLICATION_TOKEN)\n",
    "\n",
    "# This token json file is autogenerated when you donwload your token, \n",
    "# if yours is different update the file name below\n",
    "#with open(\"datastax_auth/danny@fiddler.ai-token.json\") as f:\n",
    "#    secrets = json.load(f)\n",
    "\n",
    "#CLIENT_ID = secrets[\"clientId\"]\n",
    "#CLIENT_SECRET = secrets[\"secret\"]\n",
    "\n",
    "auth_provider=PlainTextAuthProvider(\"token\", ASTRA_DB_APPLICATION_TOKEN)\n",
    "cluster = Cluster(cloud=cloud_config, auth_provider=auth_provider)\n",
    "\n",
    "#auth_provider = PlainTextAuthProvider(CLIENT_ID, CLIENT_SECRET)\n",
    "#cluster = Cluster(cloud=cloud_config, auth_provider=auth_provider)\n",
    "session = cluster.connect()"
   ]
  },
  {
   "cell_type": "code",
   "execution_count": 29,
   "id": "5d5beb68-14d7-4b67-bd02-44d4dea4d5d2",
   "metadata": {},
   "outputs": [],
   "source": [
    "session.set_keyspace('fiddlerai')"
   ]
  },
  {
   "cell_type": "code",
   "execution_count": 30,
   "id": "5590ec5f-b046-4fba-8849-6bb97df81472",
   "metadata": {},
   "outputs": [],
   "source": [
    "# Set your secret(s) for LLM access:\n",
    "llmProvider = 'OpenAI'  # 'GCP_VertexAI', 'Azure_OpenAI'"
   ]
  },
  {
   "cell_type": "code",
   "execution_count": 31,
   "id": "a9041101-86be-41ec-9b20-db246fbbce87",
   "metadata": {},
   "outputs": [],
   "source": [
    "from langchain.indexes import VectorstoreIndexCreator\n",
    "from langchain.text_splitter import CharacterTextSplitter, RecursiveCharacterTextSplitter\n",
    "from langchain.docstore.document import Document\n",
    "from langchain.document_loaders import TextLoader, DirectoryLoader, DataFrameLoader, GoogleDriveLoader\n",
    "from langchain.vectorstores.cassandra import Cassandra\n",
    "import os\n",
    "import openai"
   ]
  },
  {
   "cell_type": "code",
   "execution_count": 32,
   "id": "97ed5b8a-e8e0-48cf-aa49-eed9ec6c1bb6",
   "metadata": {},
   "outputs": [
    {
     "name": "stdout",
     "output_type": "stream",
     "text": [
      "LLM+embeddings from OpenAI\n"
     ]
    }
   ],
   "source": [
    "os.environ['OPENAI_API_TYPE'] = 'open_ai'\n",
    "from langchain.llms import OpenAI\n",
    "from langchain.embeddings import OpenAIEmbeddings\n",
    "llm = OpenAI(temperature=0)\n",
    "myEmbedding = OpenAIEmbeddings()\n",
    "print('LLM+embeddings from OpenAI')"
   ]
  },
  {
   "cell_type": "code",
   "execution_count": 33,
   "id": "f323bb1d-8bc6-4cd9-a39c-372cfd8c7ac0",
   "metadata": {},
   "outputs": [],
   "source": [
    "table_name = 'fiddler_rfp_snippets_' + llmProvider\n",
    "\n",
    "index_creator = VectorstoreIndexCreator(\n",
    "    vectorstore_cls=Cassandra,\n",
    "    embedding=myEmbedding,\n",
    "    text_splitter=CharacterTextSplitter(\n",
    "        chunk_size=5000,\n",
    "        chunk_overlap=0,\n",
    "    ),\n",
    "    vectorstore_kwargs={\n",
    "        'session': session,\n",
    "        'keyspace': 'fiddlerai',\n",
    "        'table_name': table_name,\n",
    "    },\n",
    ")"
   ]
  },
  {
   "cell_type": "code",
   "execution_count": 34,
   "id": "0c97fdd2-a560-40d9-937f-566d16bc2e94",
   "metadata": {},
   "outputs": [],
   "source": [
    "#!pip install --upgrade google-api-python-client google-auth-httplib2 google-auth-oauthlib"
   ]
  },
  {
   "cell_type": "code",
   "execution_count": 35,
   "id": "a13b3654-d5ad-4ab9-8a12-c593dfcf7f1e",
   "metadata": {},
   "outputs": [],
   "source": [
    "# import google.auth\n",
    "# print(google.auth.__version__)"
   ]
  },
  {
   "cell_type": "code",
   "execution_count": 36,
   "id": "9888832d-a446-4b10-842f-2b64b193fcc0",
   "metadata": {},
   "outputs": [],
   "source": [
    "pd.set_option('display.max_colwidth', None)"
   ]
  },
  {
   "cell_type": "code",
   "execution_count": 37,
   "id": "99b99f07-d319-4fe1-8fcb-c4e4226963b6",
   "metadata": {},
   "outputs": [
    {
     "data": {
      "text/html": [
       "<div>\n",
       "<style scoped>\n",
       "    .dataframe tbody tr th:only-of-type {\n",
       "        vertical-align: middle;\n",
       "    }\n",
       "\n",
       "    .dataframe tbody tr th {\n",
       "        vertical-align: top;\n",
       "    }\n",
       "\n",
       "    .dataframe thead th {\n",
       "        text-align: right;\n",
       "    }\n",
       "</style>\n",
       "<table border=\"1\" class=\"dataframe\">\n",
       "  <thead>\n",
       "    <tr style=\"text-align: right;\">\n",
       "      <th></th>\n",
       "      <th>Snippet</th>\n",
       "    </tr>\n",
       "  </thead>\n",
       "  <tbody>\n",
       "    <tr>\n",
       "      <th>0</th>\n",
       "      <td>How, and to what extent, is data encrypted in transit and at rest?  Please describe encryption details and key management policy.\\nFiddler encrypts our customer data in transit using SSL/TLS and at rest using AWS AES-256 encryption algorithms for all our VPCs running in our AWS cloud.</td>\n",
       "    </tr>\n",
       "    <tr>\n",
       "      <th>1</th>\n",
       "      <td>1.       What metrics does the platform monitor during model execution? Please, provide/point to metrics details.\\nFiddler offers a variety of model metrics related to model drift, model performance (requires ground truth labels), data integrity, and model serving.   All monitoring metrics can be found on the Fiddler documentation site here: https://docs.fiddler.ai/docs/monitoring\\nFiddler offers a variety of model metrics related to model drift, model performance (requires ground truth labels), data integrity, and model serving.   All monitoring metrics can be found on the Fiddler documentation site here: https://docs.fiddler.ai/docs/monitoring</td>\n",
       "    </tr>\n",
       "    <tr>\n",
       "      <th>2</th>\n",
       "      <td>Are all security events in production logged? (e.g. authentication events, SSH session commands, privilege elevations) Please describe the types of security events being logged. If there is no logging of security events, please explain why you are comfortable with not having it.\\nMoreover, we have setup Amazon GuardDuty IDS solution on top of the logs.</td>\n",
       "    </tr>\n",
       "    <tr>\n",
       "      <th>3</th>\n",
       "      <td>Is multi-factor authentication (MFA) required for employees/contractors to logon to production systems via internal network and remote access? If no, please explain why you are comfortable with not having it.\\nNo\\nNo contracts have access to the production systems. Regarding employees access to prod systems, we have several controls such as \\n1. vpn access is required.\\n2. individual credentials via google sso which is MFA enabled.\\n3. rbac, role based access control.</td>\n",
       "    </tr>\n",
       "    <tr>\n",
       "      <th>4</th>\n",
       "      <td>Does application support IP whitelisting for API access?\\nNo</td>\n",
       "    </tr>\n",
       "    <tr>\n",
       "      <th>...</th>\n",
       "      <td>...</td>\n",
       "    </tr>\n",
       "    <tr>\n",
       "      <th>1122</th>\n",
       "      <td>Do you have an adequate cyber insurance policy to cover the costs of a potential data breach? If so please provide the policy details.\\nYes</td>\n",
       "    </tr>\n",
       "    <tr>\n",
       "      <th>1123</th>\n",
       "      <td>Is the the infromation security policy reviewed at least annually?  When was the last review performed?\\nYes</td>\n",
       "    </tr>\n",
       "    <tr>\n",
       "      <th>1124</th>\n",
       "      <td>Do you have documented information security policies and procedures?\\nYes</td>\n",
       "    </tr>\n",
       "    <tr>\n",
       "      <th>1125</th>\n",
       "      <td>Does your organization maintain a formal Information Security program? If yes, please describe the Information Security organization and provide the title of the individual responsible for information security\\nYes</td>\n",
       "    </tr>\n",
       "    <tr>\n",
       "      <th>1126</th>\n",
       "      <td>NaN</td>\n",
       "    </tr>\n",
       "  </tbody>\n",
       "</table>\n",
       "<p>1127 rows × 1 columns</p>\n",
       "</div>"
      ],
      "text/plain": [
       "                                                                                                                                                                                                                                                                                                                                                                                                                                                                                                                                                                                                                                                                            Snippet\n",
       "0                                                                                                                                                                                                                                                                                                                                                                                     How, and to what extent, is data encrypted in transit and at rest?  Please describe encryption details and key management policy.\\nFiddler encrypts our customer data in transit using SSL/TLS and at rest using AWS AES-256 encryption algorithms for all our VPCs running in our AWS cloud.\n",
       "1     1.       What metrics does the platform monitor during model execution? Please, provide/point to metrics details.\\nFiddler offers a variety of model metrics related to model drift, model performance (requires ground truth labels), data integrity, and model serving.   All monitoring metrics can be found on the Fiddler documentation site here: https://docs.fiddler.ai/docs/monitoring\\nFiddler offers a variety of model metrics related to model drift, model performance (requires ground truth labels), data integrity, and model serving.   All monitoring metrics can be found on the Fiddler documentation site here: https://docs.fiddler.ai/docs/monitoring\n",
       "2                                                                                                                                                                                                                                                                                                                Are all security events in production logged? (e.g. authentication events, SSH session commands, privilege elevations) Please describe the types of security events being logged. If there is no logging of security events, please explain why you are comfortable with not having it.\\nMoreover, we have setup Amazon GuardDuty IDS solution on top of the logs.\n",
       "3                                                                                                                                                                                          Is multi-factor authentication (MFA) required for employees/contractors to logon to production systems via internal network and remote access? If no, please explain why you are comfortable with not having it.\\nNo\\nNo contracts have access to the production systems. Regarding employees access to prod systems, we have several controls such as \\n1. vpn access is required.\\n2. individual credentials via google sso which is MFA enabled.\\n3. rbac, role based access control.\n",
       "4                                                                                                                                                                                                                                                                                                                                                                                                                                                                                                                                                                                                                      Does application support IP whitelisting for API access?\\nNo\n",
       "...                                                                                                                                                                                                                                                                                                                                                                                                                                                                                                                                                                                                                                                                             ...\n",
       "1122                                                                                                                                                                                                                                                                                                                                                                                                                                                                                                                                    Do you have an adequate cyber insurance policy to cover the costs of a potential data breach? If so please provide the policy details.\\nYes\n",
       "1123                                                                                                                                                                                                                                                                                                                                                                                                                                                                                                                                                                   Is the the infromation security policy reviewed at least annually?  When was the last review performed?\\nYes\n",
       "1124                                                                                                                                                                                                                                                                                                                                                                                                                                                                                                                                                                                                      Do you have documented information security policies and procedures?\\nYes\n",
       "1125                                                                                                                                                                                                                                                                                                                                                                                                                                                         Does your organization maintain a formal Information Security program? If yes, please describe the Information Security organization and provide the title of the individual responsible for information security\\nYes\n",
       "1126                                                                                                                                                                                                                                                                                                                                                                                                                                                                                                                                                                                                                                                                            NaN\n",
       "\n",
       "[1127 rows x 1 columns]"
      ]
     },
     "execution_count": 37,
     "metadata": {},
     "output_type": "execute_result"
    }
   ],
   "source": [
    "import pandas as pd\n",
    "\n",
    "df = pd.read_csv('documentation_data/Danny Answer Library - Answer Library.csv')\n",
    "df_doc = df[['Snippet']]\n",
    "df_doc"
   ]
  },
  {
   "cell_type": "markdown",
   "id": "a547462c-3654-46f9-a439-2837e52ba6c2",
   "metadata": {},
   "source": [
    "https://cloud.google.com/docs/authentication/provide-credentials-adc#how-to"
   ]
  },
  {
   "cell_type": "code",
   "execution_count": 14,
   "id": "93a7fb99-64fc-417a-b450-f7e36fa62f25",
   "metadata": {},
   "outputs": [],
   "source": [
    "# loader = GoogleDriveLoader(\n",
    "#     document_ids=[\"1mnLRiAYx5gZsMvbueJWpi3caapk9VvGx\"],\n",
    "#     token_path=\"token.json\",\n",
    "# )"
   ]
  },
  {
   "cell_type": "code",
   "execution_count": null,
   "id": "0b114292-6e4c-41b9-9455-7a095790de4e",
   "metadata": {},
   "outputs": [],
   "source": [
    "# docs = loader.load()"
   ]
  },
  {
   "cell_type": "code",
   "execution_count": null,
   "id": "1f1bc517-6674-4c23-a3d9-c43df13e1f87",
   "metadata": {},
   "outputs": [],
   "source": [
    "# df = pd.read_csv('documentation_data/vector_index_feed_23.5.csv')\n",
    "# df"
   ]
  },
  {
   "cell_type": "code",
   "execution_count": 39,
   "id": "76211ae4-6cc1-4b5e-aa92-cca6c7338330",
   "metadata": {},
   "outputs": [],
   "source": [
    "loader = DataFrameLoader(df_doc, page_content_column=\"Snippet\")"
   ]
  },
  {
   "cell_type": "code",
   "execution_count": 40,
   "id": "67c383eb-dd61-41d4-a798-9589d78acb9d",
   "metadata": {},
   "outputs": [
    {
     "data": {
      "text/plain": [
       "1127"
      ]
     },
     "execution_count": 40,
     "metadata": {},
     "output_type": "execute_result"
    }
   ],
   "source": [
    "len(loader.load())"
   ]
  },
  {
   "cell_type": "code",
   "execution_count": 41,
   "id": "4453446d-71b6-4da5-915e-f62d5177af9a",
   "metadata": {},
   "outputs": [
    {
     "data": {
      "text/plain": [
       "VectorStoreIndexWrapper(vectorstore=<langchain.vectorstores.cassandra.Cassandra object at 0x7ff35cbb55e0>)"
      ]
     },
     "execution_count": 41,
     "metadata": {},
     "output_type": "execute_result"
    }
   ],
   "source": [
    "index = index_creator.from_loaders([loader])\n",
    "index"
   ]
  },
  {
   "cell_type": "code",
   "execution_count": 42,
   "id": "e0a75294-e010-4999-9385-8924d975db86",
   "metadata": {},
   "outputs": [
    {
     "name": "stdout",
     "output_type": "stream",
     "text": [
      "\n",
      "Row 0:\n",
      "    row_id:            972c0474427c4237872c3bbbab1951e4\n",
      "    vector:            [0.0036626053042709827, -0.02872580476105213, 0.0041755661368370 ...\n",
      "    body_blob:         c) Will you notify us of any such requests and in what timeframe ...\n",
      "    metadata_s:        None\n",
      "\n",
      "Row 1:\n",
      "    row_id:            68945f36a3b1461697a373973b8a801b\n",
      "    vector:            [-0.040573589503765106, -0.002487645950168371, -0.00519565073773 ...\n",
      "    body_blob:         Model Operations_002\n",
      "Fiddler tracks model drift metrics and also ...\n",
      "    metadata_s:        None\n",
      "\n",
      "Row 2:\n",
      "    row_id:            3cf33350903f433f80e147a9a3539010\n",
      "    vector:            [0.008808407001197338, 0.012253711931407452, 0.02974267303943634 ...\n",
      "    body_blob:         If yes, please explain any methods used to physically or logical ...\n",
      "    metadata_s:        None\n",
      "\n",
      "Row 3:\n",
      "    row_id:            9179821238164c7caf24df1a78509d48\n",
      "    vector:            [0.010075459256768227, -0.016981706023216248, 0.0073882299475371 ...\n",
      "    body_blob:         Is there a clearly defined acceptable use policy for computer us ...\n",
      "    metadata_s:        None\n",
      "\n",
      "Row 4:\n",
      "    row_id:            97f5fb53b11a444e8d87f95d3cd219b5\n",
      "    vector:            [0.01567554660141468, -0.007403489667922258, 0.01509650144726038 ...\n",
      "    body_blob:         What are the technical requirements for client computers ( brows ...\n",
      "    metadata_s:        None\n",
      "\n",
      "Row 5:\n",
      "    row_id:            fa8a14af2f70449388b70e38bc2efe37\n",
      "    vector:            [0.024913709610700607, -0.03457793593406677, -0.0014204746112227 ...\n",
      "    body_blob:         Does your company contractually require subcontractors to implem ...\n",
      "    metadata_s:        None\n",
      "\n",
      "Row 6:\n",
      "    row_id:            c76c493eb4b44fdc817616db3261562b\n",
      "    vector:            [0.018302524462342262, -0.017238741740584373, -0.015643065795302 ...\n",
      "    body_blob:         Who is responsible for the operational support and management of ...\n",
      "    metadata_s:        None\n",
      "\n",
      "Row 7:\n",
      "    row_id:            b6fa472526f14b7f86c9ff389485a31a\n",
      "    vector:            [0.01782493107020855, -0.001228404464200139, 0.00891899969428777 ...\n",
      "    body_blob:         Do you employ a secrets management strategy (e.g. auth tokens, p ...\n",
      "    metadata_s:        None\n",
      "\n",
      "Row 8:\n",
      "    row_id:            3d51a2055fe8440a8caf31f244f56538\n",
      "    vector:            [0.0006081856554374099, -0.009601137600839138, 0.000674319220706 ...\n",
      "    body_blob:         Do you employ a key management strategy to manage cryptographic  ...\n",
      "    metadata_s:        None\n",
      "\n",
      "Row 9:\n",
      "    row_id:            29c689439b0344a685b7b80e815363de\n",
      "    vector:            [-0.011521373875439167, 0.003965148236602545, 0.0177211873233318 ...\n",
      "    body_blob:         Is there a defined retention period for the Personal Information ...\n",
      "    metadata_s:        None\n",
      "\n",
      "Row 10:\n",
      "    row_id:            ea74566714964aa3b31b32f33088756b\n",
      "    vector:            [-0.019241031259298325, -0.018518298864364624, 0.006702315527945 ...\n",
      "    body_blob:         17. Does your platform capture biasness? How?\n",
      "Yes.\n",
      "Fiddler provi ...\n",
      "    metadata_s:        None\n",
      "\n",
      "Row 11:\n",
      "    row_id:            71b6eddce7ec49eba1ad215873f41d25\n",
      "    vector:            [0.0037454876583069563, -0.01800428330898285, 0.0093199405819177 ...\n",
      "    body_blob:         Have operating procedures been established for all IT operationa ...\n",
      "    metadata_s:        None\n",
      "\n",
      "Row 12:\n",
      "    row_id:            f5445867d2d3436ab72989f9cc41e88c\n",
      "    vector:            [-0.009869356639683247, 0.001329363090917468, -0.009759007953107 ...\n",
      "    body_blob:         Is data landed in temporary locations prior to importing into a  ...\n",
      "    metadata_s:        None\n",
      "\n",
      "Row 13:\n",
      "    row_id:            14482a2f41244b7a8a4c5948a4eddef1\n",
      "    vector:            [0.014407476410269737, -0.028867343440651894, 0.0094237988814711 ...\n",
      "    body_blob:         AAC-01.1\n",
      "Do you develop and maintain an agreed upon audit plan ( ...\n",
      "    metadata_s:        None\n",
      "\n",
      "Row 14:\n",
      "    row_id:            57d49ed789d64567a1e991de2e289c9d\n",
      "    vector:            [0.010658522136509418, 0.006586994044482708, 0.00260191340930759 ...\n",
      "    body_blob:         Do internal applications leverage SSO for authentication?\n",
      "Yes ...\n",
      "    metadata_s:        None\n",
      "\n",
      "Row 15:\n",
      "    row_id:            e3f6aa4ca9c0434d86508a24c6025412\n",
      "    vector:            [-0.01250961422920227, -0.01676849089562893, 0.0236975084990263, ...\n",
      "    body_blob:         13. Is the visualization tailored to the model trained?\n",
      "Yes and  ...\n",
      "    metadata_s:        None\n",
      "\n",
      "Row 16:\n",
      "    row_id:            01be7bf8c0f3419195df6c52a4b3289b\n",
      "    vector:            [-0.0013295813696458936, -0.01740174926817417, -0.01637653075158 ...\n",
      "    body_blob:         If yes, please indicate when data is anonymized or tokenized in  ...\n",
      "    metadata_s:        None\n",
      "\n",
      "Row 17:\n",
      "    row_id:            44b1f3d76aea4c17835e792222da4f15\n",
      "    vector:            [-0.011906011030077934, -0.006119972560554743, -0.00392692862078 ...\n",
      "    body_blob:         Does any part of your organization fall within the scope or defi ...\n",
      "    metadata_s:        None\n",
      "\n",
      "Row 18:\n",
      "    row_id:            b619701e6f434eeb80f243c08b25d568\n",
      "    vector:            [0.010158355347812176, -0.017023544758558273, 0.0131793040782213 ...\n",
      "    body_blob:         Is it possible to require additional approval from another Coinb ...\n",
      "    metadata_s:        None\n",
      "\n",
      "Row 19:\n",
      "    row_id:            656f4d476a414e68af72da678b51e181\n",
      "    vector:            [0.00032155774533748627, 0.004630759358406067, -0.00366137828677 ...\n",
      "    body_blob:         Are any of the following factors used in selecting fourth party  ...\n",
      "    metadata_s:        None\n",
      "\n",
      "Row 20:\n",
      "    row_id:            05825868cae04be08e0ce7c583a8d8fa\n",
      "    vector:            [0.010680192150175571, -0.0287849772721529, 0.012017662636935711 ...\n",
      "    body_blob:         Does your company conduct due diligence on your third parties? I ...\n",
      "    metadata_s:        None\n",
      "\n",
      "Row 21:\n",
      "    row_id:            03055be6915a498793833d5a0f1bcbd2\n",
      "    vector:            [-0.021396325901150703, -0.03982682526111603, 0.0250506494194269 ...\n",
      "    body_blob:         2.       Can the reports be saved and shared and extracted as da ...\n",
      "    metadata_s:        None\n",
      "\n",
      "Row 22:\n",
      "    row_id:            ac5b07e921524b2c8cbce278311b2197\n",
      "    vector:            [-3.815483796643093e-05, -0.023019947111606598, -0.0053491019643 ...\n",
      "    body_blob:         Select your country of incorporation ...\n",
      "    metadata_s:        None\n",
      "\n",
      "Row 23:\n",
      "    row_id:            be521f204df44de78a60a96f7cfacf16\n",
      "    vector:            [0.006141780409961939, -0.009981203824281693, 0.0092483414337039 ...\n",
      "    body_blob:         Do you have formally defined criteria/procedures for notifying a ...\n",
      "    metadata_s:        None\n",
      "\n",
      "Row 24:\n",
      "    row_id:            75d48e3d16964ced8634f22c4583e4bc\n",
      "    vector:            [0.01911281980574131, -0.014910423196852207, -0.0021651769056916 ...\n",
      "    body_blob:         Do you outsource development? (contracted with a 3rd party? open ...\n",
      "    metadata_s:        None\n",
      "\n",
      "Row 25:\n",
      "    row_id:            da268a4e40e54368aba838a1aa83cf25\n",
      "    vector:            [-0.002537462394684553, -0.021606052294373512, -0.00429687649011 ...\n",
      "    body_blob:         Does your company have a formal third party risk management prog ...\n",
      "    metadata_s:        None\n",
      "\n",
      "Row 26:\n",
      "    row_id:            ee9e6d0ce6364244bd3142a8ed5f10eb\n",
      "    vector:            [-0.0016501486534252763, -0.0036369275767356157, 0.0122771058231 ...\n",
      "    body_blob:         Does your application store API keys? If yes, please provide det ...\n",
      "    metadata_s:        None\n",
      "\n",
      "Row 27:\n",
      "    row_id:            b803c38ec71b46489f766cff0295be31\n",
      "    vector:            [0.008243720047175884, -0.011218187399208546, 0.0051716719754040 ...\n",
      "    body_blob:         Does the fail-over power cover alarm systems, HVAC and other sys ...\n",
      "    metadata_s:        None\n",
      "\n",
      "Row 28:\n",
      "    row_id:            f2cc0b0fdc714f12b99e90bf6ab7567b\n",
      "    vector:            [-0.01683279126882553, -0.003692098194733262, 0.0084693292155861 ...\n",
      "    body_blob:         Do you have breach detection sytems and/or anomaly detection wit ...\n",
      "    metadata_s:        None\n",
      "\n",
      "Row 29:\n",
      "    row_id:            9030bc131dd74b9bacd8383d8f382080\n",
      "    vector:            [-0.0003544278151821345, -0.013264228589832783, -0.0024918813724 ...\n",
      "    body_blob:         Are there documented risk management policies and procedures in  ...\n",
      "    metadata_s:        None\n",
      "\n",
      "...\n"
     ]
    }
   ],
   "source": [
    "cqlSelect = f'SELECT * FROM fiddlerai.{table_name} LIMIT 30;'  # (Not a production-optimized query ...)\n",
    "rows = session.execute(cqlSelect)\n",
    "for row_i, row in enumerate(rows):\n",
    "    print(f'\\nRow {row_i}:')\n",
    "    # depending on the cassIO version, the underlying Cassandra table can have different structure ...\n",
    "    try:\n",
    "        # you are using the new cassIO 0.1.0+ : congratulations :)\n",
    "        print(f'    row_id:            {row.row_id}')\n",
    "        print(f'    vector:            {str(row.vector)[:64]} ...')\n",
    "        print(f'    body_blob:         {row.body_blob[:64]} ...')\n",
    "        print(f'    metadata_s:        {row.metadata_s}')        \n",
    "    except AttributeError:\n",
    "        # Please upgrade your cassIO to the latest version ...\n",
    "        print(f'    document_id:      {row.document_id}')\n",
    "        print(f'    embedding_vector: {str(row.embedding_vector)[:64]} ...')\n",
    "        print(f'    document:         {row.document[:64]} ...')\n",
    "        print(f'    metadata_blob:    {row.metadata_blob}')\n",
    "\n",
    "print('\\n...')"
   ]
  },
  {
   "cell_type": "code",
   "execution_count": null,
   "id": "18f9e701-49fa-49cd-9e30-3ab1bd2cd636",
   "metadata": {},
   "outputs": [],
   "source": [
    "query = \"What is Fiddler?\"\n",
    "index.query(query, llm=llm)"
   ]
  },
  {
   "cell_type": "code",
   "execution_count": null,
   "id": "ebbd67ae-2260-4566-a23e-f981f69cc1fd",
   "metadata": {},
   "outputs": [],
   "source": [
    "createTableSQL = \"\"\"CREATE TABLE fiddler_chatbot_history (\n",
    "    row_id text PRIMARY KEY,\n",
    "    response text,\n",
    "    response_vector vector<float, 1536>,\n",
    "    source_docs text,\n",
    "    source_docs_vector vector<float, 1536>,\n",
    "    question text,\n",
    "    question_vector vector<float, 1536>,\n",
    "    comment text,\n",
    "    feedback int,\n",
    "    metadata_s map<text, text>,\n",
    "    ts timestamp)\"\"\"\n",
    "# ) WITH additional_write_policy = '99p'\n",
    "#     AND bloom_filter_fp_chance = 0.01\n",
    "#     AND caching = {'keys': 'ALL', 'rows_per_partition': 'NONE'}\n",
    "#     AND comment = ''\n",
    "#     AND compaction = {'class': 'org.apache.cassandra.db.compaction.UnifiedCompactionStrategy'}\n",
    "#     AND compression = {'chunk_length_in_kb': '16', 'class': 'org.apache.cassandra.io.compress.LZ4Compressor'}\n",
    "#     AND crc_check_chance = 1.0\n",
    "#     AND default_time_to_live = 0\n",
    "#     AND gc_grace_seconds = 864000\n",
    "#     AND max_index_interval = 2048\n",
    "#     AND memtable_flush_period_in_ms = 0\n",
    "#     AND min_index_interval = 128\n",
    "#     AND read_repair = 'BLOCKING'\n",
    "#     AND speculative_retry = '99p';\"\"\""
   ]
  },
  {
   "cell_type": "code",
   "execution_count": null,
   "id": "a58a1bad-c048-40a9-b9b6-c070a28a4dbe",
   "metadata": {},
   "outputs": [],
   "source": [
    "session.execute(createTableSQL)"
   ]
  },
  {
   "cell_type": "code",
   "execution_count": null,
   "id": "c6c2668f-2d7a-454a-9024-8aefbe645ff3",
   "metadata": {},
   "outputs": [],
   "source": [
    "EMBEDDING_MODEL = \"text-embedding-ada-002\"\n",
    "response = openai.Embedding.create(model=EMBEDDING_MODEL, input='How are you doing')\n",
    "response"
   ]
  },
  {
   "cell_type": "code",
   "execution_count": null,
   "id": "081e831d-cbb6-4d50-af91-87ff6b853381",
   "metadata": {},
   "outputs": [],
   "source": []
  },
  {
   "cell_type": "code",
   "execution_count": null,
   "id": "081b3082-7539-4b3d-8beb-1f171345d87e",
   "metadata": {},
   "outputs": [],
   "source": [
    "def pandas_factory(colnames, rows):\n",
    "    return pd.DataFrame(rows, columns=colnames)\n",
    "\n",
    "session.row_factory = pandas_factory\n",
    "session.default_fetch_size = None"
   ]
  },
  {
   "cell_type": "code",
   "execution_count": null,
   "id": "6b4758a9-fa0e-494a-bda5-0868b2d0ea64",
   "metadata": {},
   "outputs": [],
   "source": [
    "rows = session.execute('SELECT * from squad')\n",
    "    \n",
    "df_baseline = rows._current_rows\n",
    "df_baseline"
   ]
  },
  {
   "cell_type": "code",
   "execution_count": null,
   "id": "fb7c4d5b-1cf4-49da-b9cd-b7d53eb8e64a",
   "metadata": {},
   "outputs": [],
   "source": [
    "column_types = df_baseline.dtypes\n",
    "\n",
    "print(column_types)"
   ]
  },
  {
   "cell_type": "code",
   "execution_count": null,
   "id": "517937fc-1fe1-49cd-b7c5-a3040d2dc9ad",
   "metadata": {},
   "outputs": [],
   "source": [
    "df_baseline['answers'] = df_baseline['answers'].apply(lambda x : str(x))"
   ]
  }
 ],
 "metadata": {
  "kernelspec": {
   "display_name": "Python 3",
   "language": "python",
   "name": "python3"
  },
  "language_info": {
   "codemirror_mode": {
    "name": "ipython",
    "version": 3
   },
   "file_extension": ".py",
   "mimetype": "text/x-python",
   "name": "python",
   "nbconvert_exporter": "python",
   "pygments_lexer": "ipython3",
   "version": "3.8.8"
  }
 },
 "nbformat": 4,
 "nbformat_minor": 5
}
